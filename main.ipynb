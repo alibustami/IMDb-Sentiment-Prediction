{
 "cells": [
  {
   "cell_type": "markdown",
   "metadata": {},
   "source": [
    "# IMDb Setimient Analysis"
   ]
  },
  {
   "cell_type": "markdown",
   "metadata": {},
   "source": [
    "## Introduction\n",
    "\n",
    "In this notebook, I will be analyzing the IMDb dataset. The dataset contains movies reviews and their binary classification (positive or negative), and I will be using the dataset to train a model to predict the sentiment of a review. The dataset contains 50,000 reviews, and I will be using 25,000 reviews for training and 25,000 for testing."
   ]
  },
  {
   "cell_type": "markdown",
   "metadata": {},
   "source": [
    "## Installing the Required Libraries"
   ]
  },
  {
   "cell_type": "code",
   "execution_count": 1,
   "metadata": {},
   "outputs": [
    {
     "name": "stdout",
     "output_type": "stream",
     "text": [
      "Requirement already satisfied: torchtext==0.17.0 in /home/ali/miniconda3/envs/IMDb-sentiment-analysis-env/lib/python3.8/site-packages (0.17.0)\n",
      "Requirement already satisfied: portalocker==2.8.2 in /home/ali/miniconda3/envs/IMDb-sentiment-analysis-env/lib/python3.8/site-packages (2.8.2)\n",
      "Requirement already satisfied: torch==2.2.0 in /home/ali/miniconda3/envs/IMDb-sentiment-analysis-env/lib/python3.8/site-packages (2.2.0)\n",
      "Requirement already satisfied: tqdm in /home/ali/miniconda3/envs/IMDb-sentiment-analysis-env/lib/python3.8/site-packages (from torchtext==0.17.0) (4.66.2)\n",
      "Requirement already satisfied: requests in /home/ali/miniconda3/envs/IMDb-sentiment-analysis-env/lib/python3.8/site-packages (from torchtext==0.17.0) (2.31.0)\n",
      "Requirement already satisfied: numpy in /home/ali/miniconda3/envs/IMDb-sentiment-analysis-env/lib/python3.8/site-packages (from torchtext==0.17.0) (1.24.4)\n",
      "Requirement already satisfied: torchdata==0.7.1 in /home/ali/miniconda3/envs/IMDb-sentiment-analysis-env/lib/python3.8/site-packages (from torchtext==0.17.0) (0.7.1)\n",
      "Requirement already satisfied: filelock in /home/ali/miniconda3/envs/IMDb-sentiment-analysis-env/lib/python3.8/site-packages (from torch==2.2.0) (3.13.1)\n",
      "Requirement already satisfied: typing-extensions>=4.8.0 in /home/ali/miniconda3/envs/IMDb-sentiment-analysis-env/lib/python3.8/site-packages (from torch==2.2.0) (4.10.0)\n",
      "Requirement already satisfied: sympy in /home/ali/miniconda3/envs/IMDb-sentiment-analysis-env/lib/python3.8/site-packages (from torch==2.2.0) (1.12)\n",
      "Requirement already satisfied: networkx in /home/ali/miniconda3/envs/IMDb-sentiment-analysis-env/lib/python3.8/site-packages (from torch==2.2.0) (3.1)\n",
      "Requirement already satisfied: jinja2 in /home/ali/miniconda3/envs/IMDb-sentiment-analysis-env/lib/python3.8/site-packages (from torch==2.2.0) (3.1.3)\n",
      "Requirement already satisfied: fsspec in /home/ali/miniconda3/envs/IMDb-sentiment-analysis-env/lib/python3.8/site-packages (from torch==2.2.0) (2024.2.0)\n",
      "Requirement already satisfied: nvidia-cuda-nvrtc-cu12==12.1.105 in /home/ali/miniconda3/envs/IMDb-sentiment-analysis-env/lib/python3.8/site-packages (from torch==2.2.0) (12.1.105)\n",
      "Requirement already satisfied: nvidia-cuda-runtime-cu12==12.1.105 in /home/ali/miniconda3/envs/IMDb-sentiment-analysis-env/lib/python3.8/site-packages (from torch==2.2.0) (12.1.105)\n",
      "Requirement already satisfied: nvidia-cuda-cupti-cu12==12.1.105 in /home/ali/miniconda3/envs/IMDb-sentiment-analysis-env/lib/python3.8/site-packages (from torch==2.2.0) (12.1.105)\n",
      "Requirement already satisfied: nvidia-cudnn-cu12==8.9.2.26 in /home/ali/miniconda3/envs/IMDb-sentiment-analysis-env/lib/python3.8/site-packages (from torch==2.2.0) (8.9.2.26)\n",
      "Requirement already satisfied: nvidia-cublas-cu12==12.1.3.1 in /home/ali/miniconda3/envs/IMDb-sentiment-analysis-env/lib/python3.8/site-packages (from torch==2.2.0) (12.1.3.1)\n",
      "Requirement already satisfied: nvidia-cufft-cu12==11.0.2.54 in /home/ali/miniconda3/envs/IMDb-sentiment-analysis-env/lib/python3.8/site-packages (from torch==2.2.0) (11.0.2.54)\n",
      "Requirement already satisfied: nvidia-curand-cu12==10.3.2.106 in /home/ali/miniconda3/envs/IMDb-sentiment-analysis-env/lib/python3.8/site-packages (from torch==2.2.0) (10.3.2.106)\n",
      "Requirement already satisfied: nvidia-cusolver-cu12==11.4.5.107 in /home/ali/miniconda3/envs/IMDb-sentiment-analysis-env/lib/python3.8/site-packages (from torch==2.2.0) (11.4.5.107)\n",
      "Requirement already satisfied: nvidia-cusparse-cu12==12.1.0.106 in /home/ali/miniconda3/envs/IMDb-sentiment-analysis-env/lib/python3.8/site-packages (from torch==2.2.0) (12.1.0.106)\n",
      "Requirement already satisfied: nvidia-nccl-cu12==2.19.3 in /home/ali/miniconda3/envs/IMDb-sentiment-analysis-env/lib/python3.8/site-packages (from torch==2.2.0) (2.19.3)\n",
      "Requirement already satisfied: nvidia-nvtx-cu12==12.1.105 in /home/ali/miniconda3/envs/IMDb-sentiment-analysis-env/lib/python3.8/site-packages (from torch==2.2.0) (12.1.105)\n",
      "Requirement already satisfied: triton==2.2.0 in /home/ali/miniconda3/envs/IMDb-sentiment-analysis-env/lib/python3.8/site-packages (from torch==2.2.0) (2.2.0)\n",
      "Requirement already satisfied: nvidia-nvjitlink-cu12 in /home/ali/miniconda3/envs/IMDb-sentiment-analysis-env/lib/python3.8/site-packages (from nvidia-cusolver-cu12==11.4.5.107->torch==2.2.0) (12.3.101)\n",
      "Requirement already satisfied: urllib3>=1.25 in /home/ali/miniconda3/envs/IMDb-sentiment-analysis-env/lib/python3.8/site-packages (from torchdata==0.7.1->torchtext==0.17.0) (2.2.1)\n",
      "Requirement already satisfied: MarkupSafe>=2.0 in /home/ali/miniconda3/envs/IMDb-sentiment-analysis-env/lib/python3.8/site-packages (from jinja2->torch==2.2.0) (2.1.5)\n",
      "Requirement already satisfied: charset-normalizer<4,>=2 in /home/ali/miniconda3/envs/IMDb-sentiment-analysis-env/lib/python3.8/site-packages (from requests->torchtext==0.17.0) (3.3.2)\n",
      "Requirement already satisfied: idna<4,>=2.5 in /home/ali/miniconda3/envs/IMDb-sentiment-analysis-env/lib/python3.8/site-packages (from requests->torchtext==0.17.0) (3.6)\n",
      "Requirement already satisfied: certifi>=2017.4.17 in /home/ali/miniconda3/envs/IMDb-sentiment-analysis-env/lib/python3.8/site-packages (from requests->torchtext==0.17.0) (2024.2.2)\n",
      "Requirement already satisfied: mpmath>=0.19 in /home/ali/miniconda3/envs/IMDb-sentiment-analysis-env/lib/python3.8/site-packages (from sympy->torch==2.2.0) (1.3.0)\n"
     ]
    }
   ],
   "source": [
    "!pip install torchtext==0.17.0 portalocker==2.8.2 torch==2.2.0"
   ]
  },
  {
   "cell_type": "markdown",
   "metadata": {},
   "source": [
    "## Data Preparation"
   ]
  },
  {
   "cell_type": "code",
   "execution_count": 2,
   "metadata": {},
   "outputs": [],
   "source": [
    "import torch\n",
    "import torch.nn as nn\n",
    "import os"
   ]
  },
  {
   "cell_type": "code",
   "execution_count": 3,
   "metadata": {},
   "outputs": [],
   "source": [
    "from torchtext.datasets import IMDB\n",
    "from torch.utils.data.dataset import random_split\n",
    "\n",
    "\n",
    "train_dataset = IMDB(split=\"train\")\n",
    "test_dataset = IMDB(split=\"test\")\n",
    "\n",
    "test_dataset = list(test_dataset)\n",
    "\n",
    "torch.manual_seed(1)\n",
    "train_dataset, valid_dataset = random_split(list(train_dataset), [20000, 5000])"
   ]
  },
  {
   "cell_type": "code",
   "execution_count": 4,
   "metadata": {},
   "outputs": [
    {
     "name": "stdout",
     "output_type": "stream",
     "text": [
      "Vocab-size: 69023\n"
     ]
    }
   ],
   "source": [
    "import re\n",
    "from collections import Counter, OrderedDict\n",
    "\n",
    "token_counts = Counter()\n",
    "\n",
    "\n",
    "def tokenizer(text):\n",
    "    text = re.sub(\"<[^>]*>\", \"\", text)\n",
    "    emoticons = re.findall(\"(?::|;|=)(?:-)?(?:\\)|\\(|D|P)\", text.lower())\n",
    "    text = re.sub(\"[\\W]+\", \" \", text.lower()) + \" \".join(emoticons).replace(\"-\", \"\")\n",
    "    tokenized = text.split()\n",
    "    return tokenized\n",
    "\n",
    "\n",
    "for label, line in train_dataset:\n",
    "    tokens = tokenizer(line)\n",
    "    token_counts.update(tokens)\n",
    "\n",
    "\n",
    "print(\"Vocab-size:\", len(token_counts))"
   ]
  },
  {
   "cell_type": "code",
   "execution_count": 5,
   "metadata": {},
   "outputs": [],
   "source": [
    "from torchtext.vocab import vocab\n",
    "\n",
    "sorted_by_freq_tuples = sorted(token_counts.items(), key=lambda x: x[1], reverse=True)\n",
    "ordered_dict = OrderedDict(sorted_by_freq_tuples)\n",
    "\n",
    "vocab = vocab(ordered_dict)\n",
    "\n",
    "vocab.insert_token(\"<pad>\", 0)\n",
    "vocab.insert_token(\"<unk>\", 1)\n",
    "vocab.set_default_index(1)\n",
    "\n",
    "# print([vocab[token] for token in ['this', 'is', 'an', 'example']])"
   ]
  },
  {
   "cell_type": "code",
   "execution_count": 6,
   "metadata": {},
   "outputs": [],
   "source": [
    "if not torch.cuda.is_available():\n",
    "    print(\"Warning: this code may be very slow on CPU\")"
   ]
  },
  {
   "cell_type": "code",
   "execution_count": 7,
   "metadata": {},
   "outputs": [],
   "source": [
    "import torchtext\n",
    "\n",
    "device = torch.device(\"cuda\" if torch.cuda.is_available() else \"cpu\")\n",
    "\n",
    "text_pipeline = lambda x: [vocab[token] for token in tokenizer(x)]\n",
    "\n",
    "from torchtext import __version__ as torchtext_version\n",
    "from pkg_resources import parse_version\n",
    "\n",
    "if parse_version(torchtext.__version__) > parse_version(\"0.10\"):\n",
    "    label_pipeline = lambda x: (\n",
    "        1.0 if x == 2 else 0.0\n",
    "    )  # 1 ~ negative, 2 ~ positive review\n",
    "else:\n",
    "    label_pipeline = lambda x: 1.0 if x == \"pos\" else 0.0\n",
    "\n",
    "\n",
    "def collate_batch(batch):\n",
    "    label_list, text_list, lengths = [], [], []\n",
    "    for _label, _text in batch:\n",
    "        label_list.append(label_pipeline(_label))\n",
    "        processed_text = torch.tensor(text_pipeline(_text), dtype=torch.int64)\n",
    "        text_list.append(processed_text)\n",
    "        lengths.append(processed_text.size(0))\n",
    "    label_list = torch.tensor(label_list)\n",
    "    lengths = torch.tensor(lengths)\n",
    "    padded_text_list = nn.utils.rnn.pad_sequence(text_list, batch_first=True)\n",
    "    return padded_text_list.to(device), label_list.to(device), lengths.to(device)"
   ]
  },
  {
   "cell_type": "code",
   "execution_count": 9,
   "metadata": {},
   "outputs": [],
   "source": [
    "from torch.utils.data import DataLoader\n",
    "\n",
    "batch_size = 32\n",
    "\n",
    "train_dl = DataLoader(\n",
    "    train_dataset, batch_size=batch_size, shuffle=True, collate_fn=collate_batch\n",
    ")\n",
    "valid_dl = DataLoader(\n",
    "    valid_dataset, batch_size=batch_size, shuffle=False, collate_fn=collate_batch\n",
    ")\n",
    "test_dl = DataLoader(\n",
    "    test_dataset, batch_size=batch_size, shuffle=False, collate_fn=collate_batch\n",
    ")"
   ]
  },
  {
   "cell_type": "code",
   "execution_count": 10,
   "metadata": {},
   "outputs": [
    {
     "name": "stdout",
     "output_type": "stream",
     "text": [
      "tensor([[[ 0.1187, -0.5282,  0.7039],\n",
      "         [-0.8321, -0.4651,  0.3234],\n",
      "         [-0.3531,  0.9124,  0.3710],\n",
      "         [-0.3757,  0.7046, -0.7106]],\n",
      "\n",
      "        [[-0.3531,  0.9124,  0.3710],\n",
      "         [-0.1976,  0.5566,  0.0946],\n",
      "         [-0.8321, -0.4651,  0.3234],\n",
      "         [ 0.0000,  0.0000,  0.0000]]], grad_fn=<EmbeddingBackward0>)\n"
     ]
    }
   ],
   "source": [
    "embedding = nn.Embedding(num_embeddings=10, embedding_dim=3, padding_idx=0)\n",
    "\n",
    "text_encoded_input = torch.LongTensor([[1, 2, 4, 5], [4, 3, 2, 0]])\n",
    "print(embedding(text_encoded_input))"
   ]
  },
  {
   "cell_type": "markdown",
   "metadata": {},
   "source": [
    "## Building an RNN model for the sentiment analysis - Nonbidirectional"
   ]
  },
  {
   "cell_type": "code",
   "execution_count": 12,
   "metadata": {},
   "outputs": [],
   "source": [
    "class RNN(nn.Module):\n",
    "    def __init__(self, vocab_size, embed_dim, rnn_hidden_size, fc_hidden_size):\n",
    "        super().__init__()\n",
    "        self.embedding = nn.Embedding(vocab_size, embed_dim, padding_idx=0)\n",
    "        self.rnn = nn.LSTM(embed_dim, rnn_hidden_size, batch_first=True)\n",
    "        self.fc1 = nn.Linear(rnn_hidden_size, fc_hidden_size)\n",
    "        self.relu = nn.ReLU()\n",
    "        self.fc2 = nn.Linear(fc_hidden_size, 1)\n",
    "        self.sigmoid = nn.Sigmoid()\n",
    "\n",
    "    def forward(self, text, lengths):\n",
    "        out = self.embedding(text)\n",
    "        out = nn.utils.rnn.pack_padded_sequence(\n",
    "            out, lengths.cpu().numpy(), enforce_sorted=False, batch_first=True\n",
    "        )\n",
    "        out, (hidden, cell) = self.rnn(out)\n",
    "        out = hidden[-1, :, :]\n",
    "        out = self.fc1(out)\n",
    "        out = self.relu(out)\n",
    "        out = self.fc2(out)\n",
    "        out = self.sigmoid(out)\n",
    "        return out\n",
    "\n",
    "\n",
    "vocab_size = len(vocab)\n",
    "embed_dim = 20\n",
    "rnn_hidden_size = 64\n",
    "fc_hidden_size = 64\n",
    "\n",
    "torch.manual_seed(1)\n",
    "model = RNN(vocab_size, embed_dim, rnn_hidden_size, fc_hidden_size)\n",
    "model = model.to(device)"
   ]
  },
  {
   "cell_type": "code",
   "execution_count": 13,
   "metadata": {},
   "outputs": [],
   "source": [
    "def train(dataloader):\n",
    "    model.train()\n",
    "    total_acc, total_loss = 0, 0\n",
    "    for text_batch, label_batch, lengths in dataloader:\n",
    "        optimizer.zero_grad()\n",
    "        pred = model(text_batch, lengths)[:, 0]\n",
    "        loss = loss_fn(pred, label_batch)\n",
    "        loss.backward()\n",
    "        optimizer.step()\n",
    "        total_acc += ((pred >= 0.5).float() == label_batch).float().sum().item()\n",
    "        total_loss += loss.item() * label_batch.size(0)\n",
    "    return total_acc / len(dataloader.dataset), total_loss / len(dataloader.dataset)\n",
    "\n",
    "\n",
    "def evaluate(dataloader):\n",
    "    model.eval()\n",
    "    total_acc, total_loss = 0, 0\n",
    "    with torch.no_grad():\n",
    "        for text_batch, label_batch, lengths in dataloader:\n",
    "            pred = model(text_batch, lengths)[:, 0]\n",
    "            loss = loss_fn(pred, label_batch)\n",
    "            total_acc += ((pred >= 0.5).float() == label_batch).float().sum().item()\n",
    "            total_loss += loss.item() * label_batch.size(0)\n",
    "    return total_acc / len(dataloader.dataset), total_loss / len(dataloader.dataset)"
   ]
  },
  {
   "cell_type": "code",
   "execution_count": 14,
   "metadata": {},
   "outputs": [
    {
     "name": "stdout",
     "output_type": "stream",
     "text": [
      "Epoch 0 accuracy: 0.5724 val_accuracy: 0.6306\n",
      "Epoch 1 accuracy: 0.6867 val_accuracy: 0.7486\n",
      "Epoch 2 accuracy: 0.6998 val_accuracy: 0.7626\n",
      "Epoch 3 accuracy: 0.7881 val_accuracy: 0.7780\n",
      "Epoch 4 accuracy: 0.8448 val_accuracy: 0.8280\n",
      "Epoch 5 accuracy: 0.8841 val_accuracy: 0.8114\n",
      "Epoch 6 accuracy: 0.9048 val_accuracy: 0.8058\n",
      "Epoch 7 accuracy: 0.9275 val_accuracy: 0.8562\n",
      "Epoch 8 accuracy: 0.9427 val_accuracy: 0.8544\n",
      "Epoch 9 accuracy: 0.9574 val_accuracy: 0.8606\n"
     ]
    }
   ],
   "source": [
    "loss_fn = nn.BCELoss()\n",
    "optimizer = torch.optim.Adam(model.parameters(), lr=0.001)\n",
    "\n",
    "num_epochs = 10\n",
    "\n",
    "torch.manual_seed(1)\n",
    "if not os.path.exists(os.path.join(\"models\", \"imdb-rnn.pth\")):\n",
    "    for epoch in range(num_epochs):\n",
    "        acc_train, loss_train = train(train_dl)\n",
    "        acc_valid, loss_valid = evaluate(valid_dl)\n",
    "        print(f\"Epoch {epoch} accuracy: {acc_train:.4f} val_accuracy: {acc_valid:.4f}\")"
   ]
  },
  {
   "cell_type": "code",
   "execution_count": 15,
   "metadata": {},
   "outputs": [],
   "source": [
    "if not os.path.exists(\"models\"):\n",
    "    os.makedirs(\"models\")\n",
    "\n",
    "if not os.path.exists(os.path.join(\"models\", \"imdb-rnn.pth\")):\n",
    "    torch.save(model.state_dict(), os.path.join(\"models\", \"imdb-rnn.pth\"))\n",
    "\n",
    "if os.path.exists(os.path.join(\"models, imdb-rnn.pth\")):\n",
    "    model = RNN(vocab_size, embed_dim, rnn_hidden_size, fc_hidden_size)\n",
    "    model.load_state_dict(torch.load(os.path.join(\"models\", \"imdb-rnn.pth\")))\n",
    "    model.eval()\n",
    "    model = model.to(device)"
   ]
  },
  {
   "cell_type": "code",
   "execution_count": 16,
   "metadata": {},
   "outputs": [
    {
     "name": "stdout",
     "output_type": "stream",
     "text": [
      "test_accuracy: 0.8580\n"
     ]
    }
   ],
   "source": [
    "acc_test, _ = evaluate(test_dl)\n",
    "print(f'test_accuracy: {acc_test:.4f}') "
   ]
  },
  {
   "cell_type": "markdown",
   "metadata": {},
   "source": [
    "## Building an RNN model for the sentiment analysis - Bidirectional"
   ]
  },
  {
   "cell_type": "code",
   "execution_count": 17,
   "metadata": {},
   "outputs": [],
   "source": [
    "class RNN(nn.Module):\n",
    "    def __init__(self, vocab_size, embed_dim, rnn_hidden_size, fc_hidden_size):\n",
    "        super().__init__()\n",
    "        self.embedding = nn.Embedding(vocab_size, \n",
    "                                      embed_dim, \n",
    "                                      padding_idx=0) \n",
    "        self.rnn = nn.LSTM(embed_dim, rnn_hidden_size, \n",
    "                           batch_first=True, bidirectional=True)\n",
    "        self.fc1 = nn.Linear(rnn_hidden_size*2, fc_hidden_size)\n",
    "        self.relu = nn.ReLU()\n",
    "        self.fc2 = nn.Linear(fc_hidden_size, 1)\n",
    "        self.sigmoid = nn.Sigmoid()\n",
    "\n",
    "    def forward(self, text, lengths):\n",
    "        out = self.embedding(text)\n",
    "        out = nn.utils.rnn.pack_padded_sequence(out, lengths.cpu().numpy(), enforce_sorted=False, batch_first=True)\n",
    "        _, (hidden, cell) = self.rnn(out)\n",
    "        out = torch.cat((hidden[-2, :, :], hidden[-1, :, :]), dim=1)\n",
    "        out = self.fc1(out)\n",
    "        out = self.relu(out)\n",
    "        out = self.fc2(out)\n",
    "        out = self.sigmoid(out)\n",
    "        return out\n",
    "    \n",
    "torch.manual_seed(1)\n",
    "model = RNN(vocab_size, embed_dim, rnn_hidden_size, fc_hidden_size) \n",
    "model = model.to(device)"
   ]
  },
  {
   "cell_type": "code",
   "execution_count": 18,
   "metadata": {},
   "outputs": [
    {
     "name": "stdout",
     "output_type": "stream",
     "text": [
      "Epoch 0 accuracy: 0.6521 val_accuracy: 0.7584\n",
      "Epoch 1 accuracy: 0.7675 val_accuracy: 0.6946\n",
      "Epoch 2 accuracy: 0.8300 val_accuracy: 0.8268\n",
      "Epoch 3 accuracy: 0.8903 val_accuracy: 0.8388\n",
      "Epoch 4 accuracy: 0.8902 val_accuracy: 0.8380\n",
      "Epoch 5 accuracy: 0.9265 val_accuracy: 0.8434\n",
      "Epoch 6 accuracy: 0.9526 val_accuracy: 0.8510\n",
      "Epoch 7 accuracy: 0.9718 val_accuracy: 0.8736\n",
      "Epoch 8 accuracy: 0.9857 val_accuracy: 0.8692\n",
      "Epoch 9 accuracy: 0.9904 val_accuracy: 0.8632\n"
     ]
    }
   ],
   "source": [
    "loss_fn = nn.BCELoss()\n",
    "optimizer = torch.optim.Adam(model.parameters(), lr=0.002)\n",
    "\n",
    "num_epochs = 10\n",
    "\n",
    "torch.manual_seed(1)\n",
    "if not os.path.exists(os.path.join(\"models\", \"imdb-rnn-bidirectional.pth\")):\n",
    "    for epoch in range(num_epochs):\n",
    "        acc_train, loss_train = train(train_dl)\n",
    "        acc_valid, loss_valid = evaluate(valid_dl)\n",
    "        print(f\"Epoch {epoch} accuracy: {acc_train:.4f} val_accuracy: {acc_valid:.4f}\")"
   ]
  },
  {
   "cell_type": "code",
   "execution_count": 19,
   "metadata": {},
   "outputs": [],
   "source": [
    "if not os.path.exists(\"models\"):\n",
    "    os.makedirs(\"models\")\n",
    "    \n",
    "if not os.path.exists(os.path.join(\"models\", \"imdb-rnn-bidirectional.pth\")):\n",
    "    torch.save(model.state_dict(), os.path.join(\"models\", \"imdb-rnn-bidirectional.pth\"))\n",
    "\n",
    "if os.path.exists(os.path.join(\"models, imdb-rnn.pth\")):\n",
    "    model = RNN(vocab_size, embed_dim, rnn_hidden_size, fc_hidden_size)\n",
    "    model.load_state_dict(\n",
    "        torch.load(os.path.join(\"models\", \"imdb-rnn-bidirectional.pth\"))\n",
    "    )\n",
    "    model.eval()\n",
    "    model = model.to(device)"
   ]
  },
  {
   "cell_type": "code",
   "execution_count": 21,
   "metadata": {},
   "outputs": [
    {
     "name": "stdout",
     "output_type": "stream",
     "text": [
      "test_accuracy: 0.8467\n"
     ]
    }
   ],
   "source": [
    "acc_test, _ = evaluate(test_dl)\n",
    "print(f'test_accuracy: {acc_test:.4f}') "
   ]
  }
 ],
 "metadata": {
  "kernelspec": {
   "display_name": "Python 3 (ipykernel)",
   "language": "python",
   "name": "python3"
  },
  "language_info": {
   "codemirror_mode": {
    "name": "ipython",
    "version": 3
   },
   "file_extension": ".py",
   "mimetype": "text/x-python",
   "name": "python",
   "nbconvert_exporter": "python",
   "pygments_lexer": "ipython3",
   "version": "3.8.18"
  }
 },
 "nbformat": 4,
 "nbformat_minor": 4
}
